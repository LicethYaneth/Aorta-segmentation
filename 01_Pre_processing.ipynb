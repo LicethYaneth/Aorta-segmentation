{
  "nbformat": 4,
  "nbformat_minor": 0,
  "metadata": {
    "kernelspec": {
      "display_name": "Python 3",
      "language": "python",
      "name": "python3"
    },
    "language_info": {
      "codemirror_mode": {
        "name": "ipython",
        "version": 3
      },
      "file_extension": ".py",
      "mimetype": "text/x-python",
      "name": "python",
      "nbconvert_exporter": "python",
      "pygments_lexer": "ipython3",
      "version": "3.7.4"
    },
    "colab": {
      "name": "01_Pre-processing.ipynb",
      "provenance": []
    }
  },
  "cells": [
    {
      "cell_type": "markdown",
      "metadata": {
        "id": "w4v08zqS4F0b",
        "colab_type": "text"
      },
      "source": [
        "# **Segmentación automática de la aorta**"
      ]
    },
    {
      "cell_type": "markdown",
      "metadata": {
        "id": "EgYy7uD95VQW",
        "colab_type": "text"
      },
      "source": [
        "**Objetivos**\n",
        "\n",
        "\n",
        "*   Realizar segmentacion automatica de la aorta utilizando tecnicas de Deep Learning.\n",
        "*   Evaluar diferentes arquitecturas de redes neuronales utilizadas en el estado del arte para **segmentacion** de imagenes medicas.\n",
        "*   Determinar el mejor modelo y sus diferentes configuraciones para obtener buenos resultados en la segmentacion.\n",
        "\n",
        "\n",
        "\n",
        "\n"
      ]
    },
    {
      "cell_type": "code",
      "metadata": {
        "id": "SxlUl7VfzIow",
        "colab_type": "code",
        "colab": {}
      },
      "source": [
        "import os, glob\n",
        "import nibabel as nib\n",
        "import numpy as np\n",
        "import matplotlib.pyplot as plt\n",
        "import cv2"
      ],
      "execution_count": null,
      "outputs": []
    },
    {
      "cell_type": "code",
      "metadata": {
        "id": "j0o_jXbIgK-Z",
        "colab_type": "code",
        "colab": {
          "base_uri": "https://localhost:8080/",
          "height": 146
        },
        "outputId": "76eaa8b3-690b-416a-880a-5e9af8733cf7"
      },
      "source": [
        "from google.colab import drive\n",
        "drive.mount('/content/drive')\n",
        "os.chdir('/content/drive/My Drive/Uis/Proyecto/proyectoIA/implniiZ')\n",
        "print(os.getcwd())"
      ],
      "execution_count": null,
      "outputs": [
        {
          "output_type": "stream",
          "text": [
            "Go to this URL in a browser: https://accounts.google.com/o/oauth2/auth?client_id=947318989803-6bn6qk8qdgf4n4g3pfee6491hc0brc4i.apps.googleusercontent.com&redirect_uri=urn%3aietf%3awg%3aoauth%3a2.0%3aoob&scope=email%20https%3a%2f%2fwww.googleapis.com%2fauth%2fdocs.test%20https%3a%2f%2fwww.googleapis.com%2fauth%2fdrive%20https%3a%2f%2fwww.googleapis.com%2fauth%2fdrive.photos.readonly%20https%3a%2f%2fwww.googleapis.com%2fauth%2fpeopleapi.readonly&response_type=code\n",
            "\n",
            "Enter your authorization code:\n",
            "··········\n",
            "Mounted at /content/drive\n",
            "/content/drive/.shortcut-targets-by-id/1kewbiW4NBEeDn4ESV3f3x9Si60NvBLIR/proyectoIA/implniiZ\n"
          ],
          "name": "stdout"
        }
      ]
    },
    {
      "cell_type": "code",
      "metadata": {
        "id": "iVTMPDyXzIpL",
        "colab_type": "code",
        "colab": {}
      },
      "source": [
        "# Constantes\n",
        "\n",
        "dataInputPath = 'data/volumes2/'\n",
        "imagePathInput = os.path.join(dataInputPath, 'img/')\n",
        "maskPathInput = os.path.join(dataInputPath, 'mask/')\n",
        "\n",
        "dataOutputPath = 'data/slices/'\n",
        "imageSliceOutput = os.path.join(dataOutputPath, 'img/')\n",
        "maskSliceOutput = os.path.join(dataOutputPath, 'mask/')\n"
      ],
      "execution_count": null,
      "outputs": []
    },
    {
      "cell_type": "markdown",
      "metadata": {
        "id": "t0Yz9fnF9l5O",
        "colab_type": "text"
      },
      "source": [
        "# **Dataset**"
      ]
    },
    {
      "cell_type": "markdown",
      "metadata": {
        "id": "M2Bfr3ogDPHg",
        "colab_type": "text"
      },
      "source": [
        "El dataset son imagenes DICOM de tomografias computarizadas de casos de la fundacion cardiovascular y del hospital universitario de Santander."
      ]
    },
    {
      "cell_type": "markdown",
      "metadata": {
        "id": "23ICPFqe86Ew",
        "colab_type": "text"
      },
      "source": [
        "# **Pre-procesamiento de las imagenes**\n"
      ]
    },
    {
      "cell_type": "markdown",
      "metadata": {
        "id": "uHMJ2iVb-PVL",
        "colab_type": "text"
      },
      "source": [
        "**Escala de Hounsfield:**\n",
        "\n",
        "Se refiere a la asignacion numerica que se le da a los datos de absorcion de los rayos X. Este valor numérico se le asigna una escala de grises en la imagen.\n",
        "\n",
        "*   Normalizacion en la escala de **Hounsfield**\n"
      ]
    },
    {
      "cell_type": "code",
      "metadata": {
        "id": "VVnA01Ni84Rd",
        "colab_type": "code",
        "colab": {}
      },
      "source": [
        "# Normalizacion de las imagenes\n",
        "HOUNSFIELD_MIN = -1000\n",
        "HOUNSFIELD_MAX = 2000\n",
        "HOUNSFIELD_RANGE = HOUNSFIELD_MAX - HOUNSFIELD_MIN\n",
        "\n",
        "# Slicing\n",
        "SLICE_X = False\n",
        "SLICE_Y = False\n",
        "SLICE_Z = True\n",
        "\n",
        "SLICE_DECIMATE_IDENTIFIER = 3"
      ],
      "execution_count": null,
      "outputs": []
    },
    {
      "cell_type": "code",
      "metadata": {
        "id": "QlNpdb1rzIpd",
        "colab_type": "code",
        "colab": {
          "base_uri": "https://localhost:8080/",
          "height": 35
        },
        "outputId": "5d93c18b-e685-4bc1-b6ff-73c292f5709b"
      },
      "source": [
        "# Max y min del nivel de Hounsfield de las imagenes\n",
        "imgPath = os.path.join(imagePathInput, 'I00001.nii')\n",
        "img = nib.load(imgPath).get_fdata()\n",
        "np.min(img), np.max(img), img.shape, type(img)"
      ],
      "execution_count": null,
      "outputs": [
        {
          "output_type": "execute_result",
          "data": {
            "text/plain": [
              "(-2187.0, 13004.0, (512, 512, 342), numpy.memmap)"
            ]
          },
          "metadata": {
            "tags": []
          },
          "execution_count": 7
        }
      ]
    },
    {
      "cell_type": "code",
      "metadata": {
        "id": "YalrF6oPzIpr",
        "colab_type": "code",
        "colab": {
          "base_uri": "https://localhost:8080/",
          "height": 35
        },
        "outputId": "0d1636b9-5d26-44c7-bd36-2619c85c228f"
      },
      "source": [
        "# Max y min del nivel de Hounsfield de las mascaras\n",
        "maskPath = os.path.join(maskPathInput, 'IMG0001.dcm.nii')\n",
        "mask = nib.load(maskPath).get_fdata()\n",
        "np.min(mask), np.max(mask), mask.shape, type(mask)"
      ],
      "execution_count": null,
      "outputs": [
        {
          "output_type": "execute_result",
          "data": {
            "text/plain": [
              "(0.0, 1.0, (512, 512, 342), numpy.memmap)"
            ]
          },
          "metadata": {
            "tags": []
          },
          "execution_count": 8
        }
      ]
    },
    {
      "cell_type": "code",
      "metadata": {
        "id": "Kt2w_wfdzIp3",
        "colab_type": "code",
        "colab": {
          "base_uri": "https://localhost:8080/",
          "height": 378
        },
        "outputId": "7eb10a3a-7096-4f71-a178-47768b172f5e"
      },
      "source": [
        "# slice imagen\n",
        "fig = plt.figure(figsize=(16,6))\n",
        "plt.subplot(1,2,1)\n",
        "imgSlice = img[:,:,171]\n",
        "plt.imshow(imgSlice, cmap='gray')\n",
        "plt.subplot(1,2,2)\n",
        "imgSlice = mask[:,:,171]\n",
        "plt.imshow(imgSlice, cmap='gray')\n",
        "plt.show()"
      ],
      "execution_count": null,
      "outputs": [
        {
          "output_type": "display_data",
          "data": {
            "image/png": "[encoded data removed]",
            "text/plain": [
              "<Figure size 1152x432 with 2 Axes>"
            ]
          },
          "metadata": {
            "tags": [],
            "needs_background": "light"
          }
        }
      ]
    },
    {
      "cell_type": "code",
      "metadata": {
        "id": "K1QTmdT_zIqE",
        "colab_type": "code",
        "colab": {
          "base_uri": "https://localhost:8080/",
          "height": 34
        },
        "outputId": "ead19534-dc47-4c8b-b19a-e10c942750ec"
      },
      "source": [
        "# Normalizar imagenes\n",
        "def normalizeImageIntensityRange(img):\n",
        "    img[img < HOUNSFIELD_MIN] = HOUNSFIELD_MIN\n",
        "    img[img > HOUNSFIELD_MAX] = HOUNSFIELD_MAX\n",
        "    return (img - HOUNSFIELD_MIN) / HOUNSFIELD_RANGE\n",
        "\n",
        "nImg = normalizeImageIntensityRange(img)\n",
        "np.min(nImg), np.max(nImg), nImg.shape, type(nImg)"
      ],
      "execution_count": null,
      "outputs": [
        {
          "output_type": "execute_result",
          "data": {
            "text/plain": [
              "(0.0, 1.0, (512, 512, 342), numpy.ndarray)"
            ]
          },
          "metadata": {
            "tags": []
          },
          "execution_count": 8
        }
      ]
    },
    {
      "cell_type": "markdown",
      "metadata": {
        "id": "CO_OzZor94dM",
        "colab_type": "text"
      },
      "source": [
        "**Imagenes de objeto a slides**"
      ]
    },
    {
      "cell_type": "markdown",
      "metadata": {
        "id": "In0sFjfoA3Jg",
        "colab_type": "text"
      },
      "source": [
        "Las imagenes se convierten del formato NIFTI a slides tanto las mascaras como la imagenes.\n",
        "\n",
        "Posteriormente cada slide se guarda en formato PNG y se almacenan en los directorios correspondientes."
      ]
    },
    {
      "cell_type": "code",
      "metadata": {
        "id": "XtLmXOAKzIqK",
        "colab_type": "code",
        "colab": {
          "base_uri": "https://localhost:8080/",
          "height": 850
        },
        "outputId": "410dc4c9-5f7b-4e08-8dc3-23e32bd39b0c"
      },
      "source": [
        "def readImageVolume(imgPath, normalize=False):\n",
        "    img = nib.load(imgPath).get_fdata()\n",
        "    if normalize:\n",
        "        return normalizeImageIntensityRange(img)\n",
        "    else:\n",
        "        return img\n",
        "    \n",
        "readImageVolume(imgPath, normalize=True)\n",
        "readImageVolume(maskPath, normalize=False)"
      ],
      "execution_count": null,
      "outputs": [
        {
          "output_type": "execute_result",
          "data": {
            "text/plain": [
              "memmap([[[0., 0., 0., ..., 0., 0., 0.],\n",
              "         [0., 0., 0., ..., 0., 0., 0.],\n",
              "         [0., 0., 0., ..., 0., 0., 0.],\n",
              "         ...,\n",
              "         [0., 0., 0., ..., 0., 0., 0.],\n",
              "         [0., 0., 0., ..., 0., 0., 0.],\n",
              "         [0., 0., 0., ..., 0., 0., 0.]],\n",
              "\n",
              "        [[0., 0., 0., ..., 0., 0., 0.],\n",
              "         [0., 0., 0., ..., 0., 0., 0.],\n",
              "         [0., 0., 0., ..., 0., 0., 0.],\n",
              "         ...,\n",
              "         [0., 0., 0., ..., 0., 0., 0.],\n",
              "         [0., 0., 0., ..., 0., 0., 0.],\n",
              "         [0., 0., 0., ..., 0., 0., 0.]],\n",
              "\n",
              "        [[0., 0., 0., ..., 0., 0., 0.],\n",
              "         [0., 0., 0., ..., 0., 0., 0.],\n",
              "         [0., 0., 0., ..., 0., 0., 0.],\n",
              "         ...,\n",
              "         [0., 0., 0., ..., 0., 0., 0.],\n",
              "         [0., 0., 0., ..., 0., 0., 0.],\n",
              "         [0., 0., 0., ..., 0., 0., 0.]],\n",
              "\n",
              "        ...,\n",
              "\n",
              "        [[0., 0., 0., ..., 0., 0., 0.],\n",
              "         [0., 0., 0., ..., 0., 0., 0.],\n",
              "         [0., 0., 0., ..., 0., 0., 0.],\n",
              "         ...,\n",
              "         [0., 0., 0., ..., 0., 0., 0.],\n",
              "         [0., 0., 0., ..., 0., 0., 0.],\n",
              "         [0., 0., 0., ..., 0., 0., 0.]],\n",
              "\n",
              "        [[0., 0., 0., ..., 0., 0., 0.],\n",
              "         [0., 0., 0., ..., 0., 0., 0.],\n",
              "         [0., 0., 0., ..., 0., 0., 0.],\n",
              "         ...,\n",
              "         [0., 0., 0., ..., 0., 0., 0.],\n",
              "         [0., 0., 0., ..., 0., 0., 0.],\n",
              "         [0., 0., 0., ..., 0., 0., 0.]],\n",
              "\n",
              "        [[0., 0., 0., ..., 0., 0., 0.],\n",
              "         [0., 0., 0., ..., 0., 0., 0.],\n",
              "         [0., 0., 0., ..., 0., 0., 0.],\n",
              "         ...,\n",
              "         [0., 0., 0., ..., 0., 0., 0.],\n",
              "         [0., 0., 0., ..., 0., 0., 0.],\n",
              "         [0., 0., 0., ..., 0., 0., 0.]]])"
            ]
          },
          "metadata": {
            "tags": []
          },
          "execution_count": 9
        }
      ]
    },
    {
      "cell_type": "code",
      "metadata": {
        "id": "cPWGhpedzIqQ",
        "colab_type": "code",
        "colab": {
          "base_uri": "https://localhost:8080/",
          "height": 17
        },
        "outputId": "fdd18098-f6c8-4b8c-d9bc-df9b4698a050"
      },
      "source": [
        "# Guardar el volumen slice\n",
        "def saveSlice(img, fname, path):\n",
        "    img = np.uint8(img * 255)\n",
        "    fout = os.path.join(path, f'{fname}.png')\n",
        "    cv2.imwrite(fout, img)\n",
        "    print(f'[+] Slice saved: {fout}', end='\\r')\n",
        "    \n",
        "saveSlice(nImg[20,:,:], 'test', imageSliceOutput)\n",
        "saveSlice(mask[20,:,:], 'test', maskSliceOutput)"
      ],
      "execution_count": null,
      "outputs": [
        {
          "output_type": "stream",
          "text": [
            "[+] Slice saved: data/slices/img/test.png\r[+] Slice saved: data/slices/mask/test.png\r"
          ],
          "name": "stdout"
        }
      ]
    },
    {
      "cell_type": "code",
      "metadata": {
        "id": "A1VmMOCyzIqi",
        "colab_type": "code",
        "colab": {}
      },
      "source": [
        "# Slice imagenes y guardarlo\n",
        "def sliceAndSaveVolumeImage(vol, fname, path):\n",
        "    (dimx, dimy, dimz) = vol.shape\n",
        "    print(dimx, dimy, dimz)\n",
        "    cnt = 0\n",
        "    if SLICE_X:\n",
        "        cnt += dimx\n",
        "        print('Slicing X: ')\n",
        "        for i in range(dimx):\n",
        "            saveSlice(vol[i,:,:], fname+f'-slice{str(i).zfill(SLICE_DECIMATE_IDENTIFIER)}_x', path)\n",
        "            \n",
        "    if SLICE_Y:\n",
        "        cnt += dimy\n",
        "        print('Slicing Y: ')\n",
        "        for i in range(dimy):\n",
        "            saveSlice(vol[:,i,:], fname+f'-slice{str(i).zfill(SLICE_DECIMATE_IDENTIFIER)}_y', path)\n",
        "            \n",
        "    if SLICE_Z:\n",
        "        cnt += dimz\n",
        "        print('Slicing Z: ')\n",
        "        for i in range(dimz):\n",
        "            saveSlice(vol[:,:,i], fname+f'-slice{str(i).zfill(SLICE_DECIMATE_IDENTIFIER)}_z', path)\n",
        "    return cnt"
      ],
      "execution_count": null,
      "outputs": []
    },
    {
      "cell_type": "code",
      "metadata": {
        "id": "Yyze_FOjzIqt",
        "colab_type": "code",
        "colab": {
          "base_uri": "https://localhost:8080/",
          "height": 119
        },
        "outputId": "52492fb7-85cb-4f51-9380-21e2dddc088b"
      },
      "source": [
        "# Leer y procesar los volumenes\n",
        "for index, filename in enumerate(sorted(glob.iglob(imagePathInput+'*.nii'))):\n",
        "    img = readImageVolume(filename, True)\n",
        "    print(filename, img.shape, np.sum(img.shape), np.min(img), np.max(img))\n",
        "    numOfSlices = sliceAndSaveVolumeImage(img, 'aorta1'+str(index), imageSliceOutput)\n",
        "    print(f'\\n{filename}, {numOfSlices} slices created \\n')"
      ],
      "execution_count": null,
      "outputs": [
        {
          "output_type": "stream",
          "text": [
            "data/volumes2/img/I00001.nii (512, 512, 342) 1366 0.0 1.0\n",
            "512 512 342\n",
            "Slicing Z: \n",
            "[+] Slice saved: data/slices/img/aorta10-slice341_z.png\n",
            "data/volumes2/img/I00001.nii, 342 slices created \n",
            "\n"
          ],
          "name": "stdout"
        }
      ]
    },
    {
      "cell_type": "code",
      "metadata": {
        "id": "u1sfVkF1zIq_",
        "colab_type": "code",
        "colab": {
          "base_uri": "https://localhost:8080/",
          "height": 119
        },
        "outputId": "17e4fce4-8ce5-4d69-938f-b3e915b607ef"
      },
      "source": [
        "# leer y procesar images y mask volumes\n",
        "for index, filename in enumerate(sorted(glob.iglob(maskPathInput+'*.nii'))):\n",
        "    img = readImageVolume(filename, False)\n",
        "    print(filename, img.shape, np.sum(img.shape), np.min(img), np.max(img))\n",
        "    numOfSlices = sliceAndSaveVolumeImage(img, 'aorta1'+str(index), maskSliceOutput)\n",
        "    print(f'\\n{filename}, {numOfSlices} slices created \\n')"
      ],
      "execution_count": null,
      "outputs": [
        {
          "output_type": "stream",
          "text": [
            "data/volumes2/mask/IMG0001.dcm.nii (512, 512, 342) 1366 0.0 1.0\n",
            "512 512 342\n",
            "Slicing Z: \n",
            "[+] Slice saved: data/slices/mask/aorta10-slice341_z.png\n",
            "data/volumes2/mask/IMG0001.dcm.nii, 342 slices created \n",
            "\n"
          ],
          "name": "stdout"
        }
      ]
    },
    {
      "cell_type": "code",
      "metadata": {
        "id": "RRrNVJYW4X60",
        "colab_type": "code",
        "colab": {}
      },
      "source": [
        "# leer y procesar images volumes\n",
        "for index, filename in enumerate(sorted(glob.iglob('data/slices/img/'+'*.png'))):\n",
        "    img = cv2.imread(filename)\n",
        "    print(filename, img.shape, np.min(img), np.max(img))"
      ],
      "execution_count": null,
      "outputs": []
    },
    {
      "cell_type": "code",
      "metadata": {
        "id": "0eBgjB_99lLT",
        "colab_type": "code",
        "colab": {
          "base_uri": "https://localhost:8080/",
          "height": 34
        },
        "outputId": "cc7a3678-deba-414f-a0fc-ce1b18c7aa55"
      },
      "source": [
        "list = os.listdir('data/slices/test/mask/img') # dir is your directory path\n",
        "number_files = len(list)\n",
        "print(number_files)"
      ],
      "execution_count": null,
      "outputs": [
        {
          "output_type": "stream",
          "text": [
            "171\n"
          ],
          "name": "stdout"
        }
      ]
    },
    {
      "cell_type": "code",
      "metadata": {
        "id": "PFyxgBCfIPQJ",
        "colab_type": "code",
        "colab": {
          "base_uri": "https://localhost:8080/",
          "height": 34
        },
        "outputId": "37a37f2c-0aa4-4487-9e42-e6f40cf2f484"
      },
      "source": [
        "list = os.listdir('data/slices/test/img/img') # dir is your directory path\n",
        "number_files = len(list)\n",
        "print(number_files)"
      ],
      "execution_count": null,
      "outputs": [
        {
          "output_type": "stream",
          "text": [
            "171\n"
          ],
          "name": "stdout"
        }
      ]
    }
  ]
}